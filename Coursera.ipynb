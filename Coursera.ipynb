{
 "cells": [
  {
   "cell_type": "markdown",
   "metadata": {},
   "source": [
    "Final Eval for Tools of Data Science"
   ]
  },
  {
   "cell_type": "markdown",
   "metadata": {},
   "source": [
    "Introduction-\n"
   ]
  },
  {
   "cell_type": "markdown",
   "metadata": {},
   "source": [
    "Data Science Languages-"
   ]
  },
  {
   "cell_type": "markdown",
   "metadata": {},
   "source": [
    "Python"
   ]
  },
  {
   "cell_type": "markdown",
   "metadata": {},
   "source": [
    "R\n"
   ]
  },
  {
   "cell_type": "markdown",
   "metadata": {},
   "source": [
    "Data Science Libraries -\n",
    "1. Numpy\n",
    "2. Matplotlib\n"
   ]
  },
  {
   "cell_type": "markdown",
   "metadata": {},
   "source": [
    "Data Science Tools-\n",
    "| Tool            | Description                                      | Website                               |\n",
    "|-----------------|--------------------------------------------------|---------------------------------------|\n",
    "| Python          | Versatile programming language for data science | [Python.org](https://www.python.org/) |\n",
    "| R               | Statistical and data analysis language          | [R Project](https://www.r-project.org/) |\n",
    "| Jupyter Notebook| Interactive environment for data analysis       | [Jupyter](https://jupyter.org/)       |\n",
    "| TensorFlow      | Open-source machine learning framework          | [TensorFlow](https://www.tensorflow.org/) |\n",
    "| scikit-learn    | Machine learning library for Python             | [scikit-learn](https://scikit-learn.org/) |\n",
    "| pandas          | Data manipulation and analysis library          | [pandas](https://pandas.pydata.org/) |\n",
    "| NumPy           | Numerical computing library for Python           | [NumPy](https://numpy.org/)            |\n",
    "| Matplotlib      | Data visualization library for Python            | [Matplotlib](https://matplotlib.org/) |\n",
    "| Seaborn         | Statistical data visualization library           | [Seaborn](https://seaborn.pydata.org/) |\n",
    "| Tableau         | Data visualization and business intelligence tool | [Tableau](https://www.tableau.com/)   |\n"
   ]
  },
  {
   "cell_type": "markdown",
   "metadata": {},
   "source": [
    "Arithmetic-\n",
    "\n",
    "5*12= \n",
    "5+18=\n",
    "10-5=\n"
   ]
  },
  {
   "cell_type": "code",
   "execution_count": 2,
   "metadata": {},
   "outputs": [
    {
     "data": {
      "text/plain": [
       "5"
      ]
     },
     "execution_count": 2,
     "metadata": {},
     "output_type": "execute_result"
    }
   ],
   "source": [
    "5*12\n",
    "5+18\n",
    "10-5\n"
   ]
  },
  {
   "cell_type": "code",
   "execution_count": null,
   "metadata": {},
   "outputs": [],
   "source": [
    "# Convert minutes to hours\n",
    "minutes = 120\n",
    "hours = minutes / 60\n",
    "\n",
    "# Print the result\n",
    "print(f\"{minutes} minutes is equal to {hours} hours.\")\n"
   ]
  },
  {
   "cell_type": "markdown",
   "metadata": {},
   "source": [
    "Objectives\n",
    "\n",
    "Understand the basics of Markdown and how to create Markdown cells.\n",
    "Learn how to format text, create lists, and add links in Markdown.\n",
    "Practice creating tables, code blocks, and images using Markdown"
   ]
  },
  {
   "cell_type": "markdown",
   "metadata": {},
   "source": [
    "Author\n",
    "\n",
    "Author: Aayush Jain"
   ]
  }
 ],
 "metadata": {
  "kernelspec": {
   "display_name": "Python 3",
   "language": "python",
   "name": "python3"
  },
  "language_info": {
   "codemirror_mode": {
    "name": "ipython",
    "version": 3
   },
   "file_extension": ".py",
   "mimetype": "text/x-python",
   "name": "python",
   "nbconvert_exporter": "python",
   "pygments_lexer": "ipython3",
   "version": "3.11.6"
  }
 },
 "nbformat": 4,
 "nbformat_minor": 2
}
